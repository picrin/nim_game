{
 "cells": [
  {
   "cell_type": "markdown",
   "metadata": {},
   "source": [
    "# The game of Nim"
   ]
  },
  {
   "cell_type": "markdown",
   "metadata": {},
   "source": [
    "## Part A – do at home before the lab"
   ]
  },
  {
   "cell_type": "markdown",
   "metadata": {},
   "source": [
    "The purpose of this lab is to implement an optimal algorithm to play the game of Nim. This is an interesting challenge for 2 reasons:\n",
    "\n",
    "1. Game of Nim is a rare case of a strategy game, which was \"solved\" in the sense that if an optimal move exists, it can be always quickly computed, and if no optimal move exists, it can be quickly proven to be the case. This is unlike the games of Chess or Go, for which new algorithms constantly appear and it doesn't look like we've invented the optimal algorithm yet.\n",
    "\n",
    "2. The optimal algorithm to play the game of Nim uses bitwise exclusive or, which is otherwise important in Computer Science & Software Engineering, and you'll have to know it in your further studies & in your future job."
   ]
  },
  {
   "cell_type": "markdown",
   "metadata": {},
   "source": [
    "## Description of the game"
   ]
  },
  {
   "cell_type": "markdown",
   "metadata": {},
   "source": [
    "In the game of Nim two players, Alice and Bob are presented with a finite number of heaps of variable size. For the sake of presentation, let's say 5 heaps:\n",
    "\n",
    "`Nim:\n",
    "1: X X X X X\n",
    "2: X X X X\n",
    "3: X X X X X\n",
    "4: X X\n",
    "5: X X X`\n",
    "\n",
    "In each turn, a player chooses a row and how many items to remove from the row. It's Alice's turn now, and she decides to remove elements from row 3 and she wants to remove 2 elements:\n",
    "\n",
    "`Alice: 3, 2\n",
    "Nim:\n",
    "1: X X X X X\n",
    "2: X X X X\n",
    "3: X X X\n",
    "4: X X\n",
    "5: X X X`\n",
    "\n",
    "It's now time for Bob to play. Bob decides to remove items from row 1, and he wants to remove all 5 items:\n",
    "\n",
    "`Bob: 1, 5\n",
    "Nim:\n",
    "1: \n",
    "2: X X X X\n",
    "3: X X X\n",
    "4: X X\n",
    "5: X X X`\n",
    "\n",
    "The game continues, and eventually it's Alice's turn and the board looks like this:\n",
    "\n",
    "`Nim:\n",
    "1: \n",
    "2: \n",
    "3: \n",
    "4: \n",
    "5: X X\n",
    "`\n",
    "\n",
    "Alice can now remove the last two elements from the last heap. Because she is the last one to make the move, she wins and this is how the game ends.\n",
    "\n",
    "`Alice: 5, 2\n",
    "Nim:\n",
    "1: \n",
    "2: \n",
    "3: \n",
    "4: \n",
    "5: \n",
    "Alice wins\n",
    "`"
   ]
  },
  {
   "cell_type": "markdown",
   "metadata": {},
   "source": [
    "## Programming tasks"
   ]
  },
  {
   "cell_type": "markdown",
   "metadata": {},
   "source": [
    "Please accomplish the following programming task before your scheduled lab"
   ]
  },
  {
   "cell_type": "markdown",
   "metadata": {},
   "source": [
    "### Present Board"
   ]
  },
  {
   "cell_type": "markdown",
   "metadata": {},
   "source": [
    "We will use a Python list to represent the current state of the Nim Board. The list will contain only information about the length of each row. Let us first write a function which will present the board nicely.\n",
    "\n",
    "```\n",
    ">>> board = [5, 4, 5, 2, 3, 1]\n",
    ">>> result = present_board(board)\n",
    ">>> print(result)\n",
    ">>> Nim:\n",
    "1: X X X X X\n",
    "2: X X X X\n",
    "3: X X X X X\n",
    "4: X X\n",
    "5: X X X\n",
    "6: X\n",
    "```\n",
    "\n",
    "Warning! `board` is not limited to a fixed size of 5 or 6. It can have any size less than 2^32\n",
    "\n",
    "Pro tip: `\"\\n\".join([\"a\", \"b\", \"c\"])` allows you to join multiple strings efficiently using new line as separator."
   ]
  },
  {
   "cell_type": "code",
   "execution_count": 1,
   "metadata": {
    "collapsed": true
   },
   "outputs": [],
   "source": [
    "def present_board(board):\n",
    "    rows = [\"Nim:\"]\n",
    "    for i, elem_no in enumerate(board):\n",
    "        elems = []\n",
    "        elems.append(str(i + 1) + \":\")\n",
    "        for j in range(elem_no):\n",
    "            elems.append(\" X\")\n",
    "        rows.append(\"\".join(elems))\n",
    "    return \"\\n\".join(rows)"
   ]
  },
  {
   "cell_type": "code",
   "execution_count": 2,
   "metadata": {},
   "outputs": [
    {
     "name": "stdout",
     "output_type": "stream",
     "text": [
      "Nim:\n",
      "1: X X X X\n",
      "2: X X X\n",
      "3: X\n",
      "4: X X\n"
     ]
    }
   ],
   "source": [
    "board = [4, 3, 1, 2]\n",
    "print(present_board(board))\n",
    "assert(present_board(board) == \"Nim:\\n1: X X X X\\n2: X X X\\n3: X\\n4: X X\")"
   ]
  },
  {
   "cell_type": "markdown",
   "metadata": {},
   "source": [
    "## Part B – do in the lab"
   ]
  },
  {
   "cell_type": "markdown",
   "metadata": {},
   "source": [
    "The algorithm to optimally play the game of Nim uses bitwise exclusive-or to work.\n",
    "\n",
    "Before we understand how that works, we have to implement exclusive-or as a binary operator.\n",
    "\n",
    "Note: binary operator exclusive-or is not the same as bitwise exclusive-or.\n",
    "\n",
    "When treated as a binary operator, exclusive-or works only with two inputs, which can take two values: 0 or 1. That's why there are only four possible ways to use a binary operator exclusive-or:\n",
    "\n",
    "`\n",
    "exclusive_or(0, 0) → 0\n",
    "exclusive_or(1, 0) → 1\n",
    "exclusive_or(0, 1) → 1\n",
    "exclusive_or(1, 1) → 0\n",
    "`\n",
    "\n",
    "Implement `exclusive_or` using `if` statements. **Do not** use python-provided exclusive-or, `^` or equality opertator `==`"
   ]
  },
  {
   "cell_type": "code",
   "execution_count": 3,
   "metadata": {},
   "outputs": [],
   "source": [
    "def exclusive_or(a, b):\n",
    "    if a == 0 and b == 0:\n",
    "        return 0\n",
    "    if a == 0 and b == 1:\n",
    "        return 1\n",
    "    if a == 1 and b == 0:\n",
    "        return 1\n",
    "    return 0"
   ]
  },
  {
   "cell_type": "code",
   "execution_count": 4,
   "metadata": {},
   "outputs": [],
   "source": [
    "assert exclusive_or(0, 0) == 0\n",
    "assert exclusive_or(0, 1) == 1\n",
    "assert exclusive_or(1, 0) == 1\n",
    "assert exclusive_or(1, 1) == 0"
   ]
  },
  {
   "cell_type": "markdown",
   "metadata": {},
   "source": [
    "In order to implement bitwise exclusive or we have to be able to convert numerals into their binary representations. For this purpose we can use python lists.\n",
    "\n",
    "Please implement the functions `numeral_binary` and `binary_numeral`\n",
    "\n",
    "``` \n",
    ">>> numeral_binary(6)\n",
    ">>> [1, 1, 0]\n",
    ">>> binary_numeral([1, 1, 1]):\n",
    ">>> 7\n",
    "```\n",
    "\n",
    "Pro tip: double forward slash, `//`, denotes integer divison operator in python 3. Integer division ignores remainders, so for example `3//3 → 1` as expected, but `4//3 → 1` and `5//3 → 1` give the same answer, since the remainders of 1 and 2 respectively are both ignored."
   ]
  },
  {
   "cell_type": "code",
   "execution_count": 5,
   "metadata": {},
   "outputs": [],
   "source": [
    "def numeral_binary(numeral):\n",
    "    result = []\n",
    "    while numeral:\n",
    "        result.append(numeral%2)\n",
    "        numeral //= 2\n",
    "    return result[::-1]"
   ]
  },
  {
   "cell_type": "code",
   "execution_count": 6,
   "metadata": {},
   "outputs": [],
   "source": [
    "def binary_numeral(binary):\n",
    "    result = 0\n",
    "    for i, value in enumerate(binary[::-1]):\n",
    "        result += value * (2 ** i)\n",
    "    return result"
   ]
  },
  {
   "cell_type": "code",
   "execution_count": 7,
   "metadata": {},
   "outputs": [],
   "source": [
    "assert numeral_binary(6) == [1, 1, 0]\n",
    "assert numeral_binary(1) == [1]\n",
    "assert numeral_binary(0) == []\n",
    "assert binary_numeral([1, 1, 0]) == 6\n",
    "assert binary_numeral([1]) == 1\n",
    "assert binary_numeral([]) == 0\n",
    "assert numeral_binary(1789) == [1, 1, 0, 1, 1, 1, 1, 1, 1, 0, 1]\n",
    "assert binary_numeral([1, 1, 0, 1, 0, 1, 1, 1, 1]) == 431\n",
    "assert binary_numeral(numeral_binary(9183742)) == 9183742"
   ]
  },
  {
   "cell_type": "markdown",
   "metadata": {},
   "source": [
    "Now you are ready to implement bitwise exclusive or. The idea is that given any two numbers:\n",
    "1. We'll first find their binary representations (using `binary_numeral`)\n",
    "2. We'll make each representation to have equal length by padding the shorter representation with 0s on the left.\n",
    "3. We'll perform exclusive or (using `exclusive_or`) on pairs of corresponding digits.\n",
    "\n",
    "For example, to compute 3 ^ 5 we will:\n",
    "1. Represent 3 in binary as [1, 1] and 5 in binary as [1, 0, 1]\n",
    "2. Pad [1, 1] on the left to get [0, 1, 1]\n",
    "3. Compute bitwise exclusive or on [0, 1, 1] and [1, 0, 1] to get [1, 1, 0]\n",
    "4. Represent [1, 1, 0] using arabic numeral"
   ]
  },
  {
   "cell_type": "code",
   "execution_count": 8,
   "metadata": {},
   "outputs": [],
   "source": [
    "def bitwise_exclusive_or(a, b):\n",
    "    a = numeral_binary(a)\n",
    "    b = numeral_binary(b)\n",
    "    if len(a) < len(b):\n",
    "        a, b = b, a\n",
    "    size_diff = len(a) - len(b)\n",
    "    b = [0] * size_diff + b\n",
    "    return binary_numeral([exclusive_or(i, j) for i, j in zip(a, b)])"
   ]
  },
  {
   "cell_type": "code",
   "execution_count": 9,
   "metadata": {},
   "outputs": [
    {
     "data": {
      "text/plain": [
       "6"
      ]
     },
     "execution_count": 9,
     "metadata": {},
     "output_type": "execute_result"
    }
   ],
   "source": [
    "bitwise_exclusive_or(3, 5)"
   ]
  },
  {
   "cell_type": "markdown",
   "metadata": {},
   "source": [
    "As you might have already realised python implements bitwise exclusive or using the caret syntax `^`. Let's use python's native implementation to check our code."
   ]
  },
  {
   "cell_type": "code",
   "execution_count": 10,
   "metadata": {},
   "outputs": [],
   "source": [
    "assert bitwise_exclusive_or(3, 5) == 3 ^ 5\n",
    "assert bitwise_exclusive_or(0, 4) == 4\n",
    "assert bitwise_exclusive_or(5, 5) == 0\n",
    "assert bitwise_exclusive_or(17, 18) == 17 ^ 18\n",
    "assert bitwise_exclusive_or(1234567890, 121212121212) == 1234567890 ^ 121212121212"
   ]
  }
 ],
 "metadata": {
  "kernelspec": {
   "display_name": "Python 3",
   "language": "python",
   "name": "python3"
  },
  "language_info": {
   "codemirror_mode": {
    "name": "ipython",
    "version": 3
   },
   "file_extension": ".py",
   "mimetype": "text/x-python",
   "name": "python",
   "nbconvert_exporter": "python",
   "pygments_lexer": "ipython3",
   "version": "3.6.2"
  }
 },
 "nbformat": 4,
 "nbformat_minor": 2
}
