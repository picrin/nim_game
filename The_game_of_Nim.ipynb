{
 "cells": [
  {
   "cell_type": "markdown",
   "metadata": {},
   "source": [
    "# The game of Nim"
   ]
  },
  {
   "cell_type": "markdown",
   "metadata": {},
   "source": [
    "## Part A – do at home before the lab"
   ]
  },
  {
   "cell_type": "markdown",
   "metadata": {},
   "source": [
    "The purpose of this lab is to implement an optimal algorithm to play the game of Nim. This is an interesting challenge for 2 reasons:\n",
    "\n",
    "1. Game of Nim is a rare case of a strategy game, which is \"solved\" in the sense that if an optimal move exists, it can be always quickly computed, and if no optimal move exists, it can be quickly proven to be the case. This is unlike the games of Chess or Go, for which new algorithms constantly appear, all take a long time to compute, and none deliver provably optimal results.\n",
    "\n",
    "2. The optimal algorithm to play the game of Nim uses bitwise exclusive or, which is otherwise important in Software Engineering & Computer Science, and you'll have to know it in your further studies & in your future job."
   ]
  },
  {
   "cell_type": "markdown",
   "metadata": {},
   "source": [
    "### Description of the game"
   ]
  },
  {
   "cell_type": "markdown",
   "metadata": {},
   "source": [
    "In the game of Nim two players, Alice and Bob are presented with a finite number of rows containing a variable number of elements. For the sake of presentation, let's say 5 rows:\n",
    "\n",
    "`Nim:\n",
    "1: X X X X X\n",
    "2: X X X X\n",
    "3: X X X X X\n",
    "4: X X\n",
    "5: X X X`\n",
    "\n",
    "In each turn, a player chooses a row and how many items to remove from the row (the number of items has to be greater than zero). It's Alice's turn, and she decides to remove elements from row 3 and she wants to remove 2 elements:\n",
    "\n",
    "`Alice: 3, 2\n",
    "Nim:\n",
    "1: X X X X X\n",
    "2: X X X X\n",
    "3: X X X\n",
    "4: X X\n",
    "5: X X X`\n",
    "\n",
    "It's now time for Bob to play. Bob decides to remove items from row 1, and he wants to remove all 5 items:\n",
    "\n",
    "`Bob: 1, 5\n",
    "Nim:\n",
    "1: \n",
    "2: X X X X\n",
    "3: X X X\n",
    "4: X X\n",
    "5: X X X`\n",
    "\n",
    "The game continues with players taking turns, and eventually it's Alice's turn and the board looks like this:\n",
    "\n",
    "`Nim:\n",
    "1: \n",
    "2: \n",
    "3: \n",
    "4: \n",
    "5: X X\n",
    "`\n",
    "\n",
    "Alice can now remove the last two elements from the last row. Because she is the last one to make the move, she wins and this is how the game ends.\n",
    "\n",
    "`Alice: 5, 2\n",
    "Nim:\n",
    "1: \n",
    "2: \n",
    "3: \n",
    "4: \n",
    "5: \n",
    "Alice wins\n",
    "`"
   ]
  },
  {
   "cell_type": "markdown",
   "metadata": {},
   "source": [
    "### Programming tasks"
   ]
  },
  {
   "cell_type": "markdown",
   "metadata": {},
   "source": [
    "Please accomplish the following programming task before your scheduled lab"
   ]
  },
  {
   "cell_type": "markdown",
   "metadata": {},
   "source": [
    "#### Present Board"
   ]
  },
  {
   "cell_type": "markdown",
   "metadata": {},
   "source": [
    "We will use a Python list to represent the current state of the Nim Board. The list will contain only information about the length of each row. Let us first write a function which will pretty-print the board.\n",
    "\n",
    "```\n",
    ">>> board = [5, 4, 5, 2, 3, 1]\n",
    ">>> result = present_board(board)\n",
    ">>> print(result)\n",
    ">>> Nim:\n",
    "1: X X X X X\n",
    "2: X X X X\n",
    "3: X X X X X\n",
    "4: X X\n",
    "5: X X X\n",
    "6: X\n",
    "```\n",
    "\n",
    "Warning! `board` is not limited to a fixed size of 5 or 6. It can have any reasonable size (reasonable ≡ less than 2³²).\n",
    "\n",
    "Pro tip: `\"\\n\".join([\"a\", \"b\", \"c\"])` allows you to join multiple strings efficiently using new line as separator."
   ]
  },
  {
   "cell_type": "code",
   "execution_count": null,
   "metadata": {
    "collapsed": true
   },
   "outputs": [],
   "source": [
    "def present_board(board):\n",
    "    rows = [\"Nim:\"]\n",
    "    for i, elem_no in enumerate(board):\n",
    "        elems = []\n",
    "        elems.append(str(i + 1) + \":\")\n",
    "        for j in range(elem_no):\n",
    "            elems.append(\" X\")\n",
    "        rows.append(\"\".join(elems))\n",
    "    return \"\\n\".join(rows)"
   ]
  },
  {
   "cell_type": "code",
   "execution_count": null,
   "metadata": {},
   "outputs": [],
   "source": [
    "board = [4, 3, 1, 2]\n",
    "print(present_board(board))\n",
    "assert(present_board(board) == \"Nim:\\n1: X X X X\\n2: X X X\\n3: X\\n4: X X\")"
   ]
  },
  {
   "cell_type": "markdown",
   "metadata": {},
   "source": [
    "#### Making a move"
   ]
  },
  {
   "cell_type": "markdown",
   "metadata": {},
   "source": [
    "When a player wants to make a move, they have to specify from which row they want to remove elements and how many elements they want to remove. They can't remove elements from an empty row or remove 0 elements from any row. For example, given the board\n",
    "\n",
    "`\n",
    "Nim:\n",
    "1: X X X X\n",
    "2: X X X\n",
    "3: X\n",
    "4: X X\n",
    "`\n",
    "\n",
    "a player can remove 3 elements from the first row, which results in the following position:\n",
    "\n",
    "`\n",
    "Nim:\n",
    "1: X\n",
    "2: X X X\n",
    "3: X\n",
    "4: X X\n",
    "`\n",
    "\n",
    "please implement `make_move(board, row, elements)`, which will return a new board with `elements` number of elements removed from `row`th row, and will return the tuple `new_board, success`, which are respectively a list representing a new board position and a boolean indicating if the move was successful or not.\n",
    "\n",
    "If the move is illegal, the function should return an exact copy of the original board and indicate that the move was not successful.\n",
    "\n",
    "Pro tip: `another_list = some_list[:]` creates a fresh copy of any given list."
   ]
  },
  {
   "cell_type": "code",
   "execution_count": null,
   "metadata": {
    "collapsed": true
   },
   "outputs": [],
   "source": [
    "def make_move(board, row, elements):\n",
    "    new_board = board[:]\n",
    "    if row < 1 or row > len(board):\n",
    "        return new_board, False\n",
    "    if elements < 1 or elements > new_board[row - 1]:\n",
    "        return new_board, False\n",
    "    new_board[row - 1] -= elements\n",
    "    return new_board, True"
   ]
  },
  {
   "cell_type": "code",
   "execution_count": null,
   "metadata": {
    "collapsed": true
   },
   "outputs": [],
   "source": [
    "board = [1, 2, 3]\n",
    "assert make_move(board, 1, 1) == ([0, 2, 3], True)\n",
    "assert board == [1, 2, 3]\n",
    "assert make_move(board, 4, 1) == ([1, 2, 3], False)\n",
    "assert make_move(board, -1, 1) == ([1, 2, 3], False)\n",
    "assert make_move(board, 0, 1) == ([1, 2, 3], False)\n",
    "assert make_move(board, 2, 3) == ([1, 2, 3], False)\n",
    "assert make_move(board, 2, 1) == ([1, 1, 3], True)\n",
    "assert board == [1, 2, 3]"
   ]
  },
  {
   "cell_type": "markdown",
   "metadata": {},
   "source": [
    "### Exclusive or logic gate"
   ]
  },
  {
   "cell_type": "markdown",
   "metadata": {},
   "source": [
    "The algorithm to optimally play the game of Nim uses bitwise exclusive-or to work.\n",
    "\n",
    "Before we understand how that works, we have to implement exclusive-or as a logic gate.\n",
    "\n",
    "Exclusive-or logic gates (XOR gates) work with two inputs, where each input can take either of two values: 0 or 1. That's why there are only four possible ways to use a XOR gate:\n",
    "\n",
    "`\n",
    "exclusive_or(0, 0) → 0\n",
    "exclusive_or(1, 0) → 1\n",
    "exclusive_or(0, 1) → 1\n",
    "exclusive_or(1, 1) → 0\n",
    "`\n",
    "\n",
    "Implement `exclusive_or` using `if` statements. Please **do not** use python-provided bitwise exclusive-or, `^` or equality opertator `==`. Both of them would work, but we'd like you to practice a more general way of solving the task using if statements."
   ]
  },
  {
   "cell_type": "code",
   "execution_count": null,
   "metadata": {
    "collapsed": true
   },
   "outputs": [],
   "source": [
    "def exclusive_or(a, b):\n",
    "    if a == 0 and b == 0:\n",
    "        return 0\n",
    "    if a == 0 and b == 1:\n",
    "        return 1\n",
    "    if a == 1 and b == 0:\n",
    "        return 1\n",
    "    return 0"
   ]
  },
  {
   "cell_type": "code",
   "execution_count": null,
   "metadata": {
    "collapsed": true
   },
   "outputs": [],
   "source": [
    "assert exclusive_or(0, 0) is 0\n",
    "assert exclusive_or(0, 1) is 1\n",
    "assert exclusive_or(1, 0) is 1\n",
    "assert exclusive_or(1, 1) is 0"
   ]
  },
  {
   "cell_type": "markdown",
   "metadata": {},
   "source": [
    "### Hindu-Arabic numerals ↔ binary conversions"
   ]
  },
  {
   "cell_type": "markdown",
   "metadata": {},
   "source": [
    "In order to implement bitwise exclusive or we have to be able to convert numerals into their binary representations. For this purpose we can use python lists.\n",
    "\n",
    "Please implement the functions `numeral_binary` and `binary_numeral`\n",
    "\n",
    "``` \n",
    ">>> numeral_binary(6)\n",
    ">>> [1, 1, 0]\n",
    ">>> binary_numeral([1, 1, 1]):\n",
    ">>> 7\n",
    "```\n",
    "\n",
    "Pro tip: double forward slash, `//`, denotes integer divison operator in python 3. Integer division ignores remainders, so for example `3//3 → 1` as expected, but `4//3 → 1` and `5//3 → 1` give the same answer, since the remainders 1 and 2 respectively are both ignored."
   ]
  },
  {
   "cell_type": "code",
   "execution_count": null,
   "metadata": {
    "collapsed": true
   },
   "outputs": [],
   "source": [
    "def numeral_binary(numeral):\n",
    "    result = []\n",
    "    while numeral:\n",
    "        result.append(numeral%2)\n",
    "        numeral //= 2\n",
    "    return result[::-1]"
   ]
  },
  {
   "cell_type": "code",
   "execution_count": null,
   "metadata": {
    "collapsed": true
   },
   "outputs": [],
   "source": [
    "def binary_numeral(binary):\n",
    "    result = 0\n",
    "    for i, value in enumerate(binary[::-1]):\n",
    "        result += value * (2 ** i)\n",
    "    return result"
   ]
  },
  {
   "cell_type": "code",
   "execution_count": null,
   "metadata": {
    "collapsed": true
   },
   "outputs": [],
   "source": [
    "assert numeral_binary(6) == [1, 1, 0]\n",
    "assert numeral_binary(1) == [1]\n",
    "assert numeral_binary(0) == []\n",
    "assert binary_numeral([1, 1, 0]) == 6\n",
    "assert binary_numeral([1]) == 1\n",
    "assert binary_numeral([]) == 0\n",
    "assert numeral_binary(1789) == [1, 1, 0, 1, 1, 1, 1, 1, 1, 0, 1]\n",
    "assert binary_numeral([1, 1, 0, 1, 0, 1, 1, 1, 1]) == 431\n",
    "assert binary_numeral(numeral_binary(9183742)) == 9183742"
   ]
  },
  {
   "cell_type": "markdown",
   "metadata": {},
   "source": [
    "Now you are ready to implement bitwise exclusive or. The idea is that given any two numbers:\n",
    "1. We'll first find their binary representations (using `binary_numeral`)\n",
    "2. We'll make each representation to have equal length by padding the shorter representation with 0s on the left.\n",
    "3. We'll perform `exclusive_or` on pairs of corresponding binary digits.\n",
    "\n",
    "For example, to compute 3 ^ 5 we will:\n",
    "1. Represent 3 in binary as [1, 1] and 5 in binary as [1, 0, 1]\n",
    "2. Pad [1, 1] on the left to get [0, 1, 1]\n",
    "3. Compute bitwise exclusive or on [0, 1, 1] and [1, 0, 1] to get [1, 1, 0]\n",
    "4. Represent [1, 1, 0] using arabic numeral"
   ]
  },
  {
   "cell_type": "code",
   "execution_count": null,
   "metadata": {
    "collapsed": true
   },
   "outputs": [],
   "source": [
    "def bitwise_exclusive_or(a, b):\n",
    "    a = numeral_binary(a)\n",
    "    b = numeral_binary(b)\n",
    "    if len(a) < len(b):\n",
    "        a, b = b, a\n",
    "    len_diff = len(a) - len(b)\n",
    "    b = [0] * len_diff + b\n",
    "    return binary_numeral([exclusive_or(i, j) for i, j in zip(a, b)])"
   ]
  },
  {
   "cell_type": "code",
   "execution_count": null,
   "metadata": {},
   "outputs": [],
   "source": [
    "bitwise_exclusive_or(3, 5)"
   ]
  },
  {
   "cell_type": "code",
   "execution_count": null,
   "metadata": {
    "collapsed": true
   },
   "outputs": [],
   "source": [
    "assert bitwise_exclusive_or(3, 5) == 3 ^ 5\n",
    "assert bitwise_exclusive_or(0, 4) == 4\n",
    "assert bitwise_exclusive_or(5, 5) == 0\n",
    "assert bitwise_exclusive_or(17, 18) == 17 ^ 18\n",
    "assert bitwise_exclusive_or(1234567890, 121212121212) == 1234567890 ^ 121212121212"
   ]
  },
  {
   "cell_type": "markdown",
   "metadata": {},
   "source": [
    "As you might have already realised python implements bitwise exclusive-or using the caret as an in-fix binary operator `^`. Let's use python's native implementation to check our code.\n",
    "\n",
    "Pro tip: python-provided bitwise exclusive-or has very low precedence. Always surround it with spaces to avoid unpleasant surprises!"
   ]
  },
  {
   "cell_type": "code",
   "execution_count": null,
   "metadata": {},
   "outputs": [],
   "source": [
    "1 + 2 ^ 3"
   ]
  },
  {
   "cell_type": "code",
   "execution_count": null,
   "metadata": {},
   "outputs": [],
   "source": [
    "1 + (2 ^ 3)"
   ]
  },
  {
   "cell_type": "markdown",
   "metadata": {},
   "source": [
    "## Part B – do in the lab or after the lab"
   ]
  },
  {
   "cell_type": "markdown",
   "metadata": {},
   "source": [
    "### The winning strategy"
   ]
  },
  {
   "cell_type": "markdown",
   "metadata": {},
   "source": [
    "#### Overview"
   ]
  },
  {
   "cell_type": "markdown",
   "metadata": {},
   "source": [
    "Most people when presented with a (very difficult) challenge of designing an algorithm to play Nim optimally follow a similar thought pattern (and quickly get stuck):\n",
    "\n",
    "- There can't be a draw, so one of the players must have a winning strategy!\n",
    "- The player who begins has a winning strategy!\n",
    "- No, the player who goes second has a winning strategy!\n",
    "- Let's try all possible move combinations of some position X\n",
    "- But there is too many...\n",
    "\n",
    "It turns out that for any board position there are only two possibilities:\n",
    "\n",
    "1. No good move exists. If it's our turn to move and our opponent plays perfectly, whatever move we choose, we loose. These board positions are called \"N-positions\".\n",
    "2. There is a winning move, and if it's our turn to move our opponent is guaranteed to loose, unless we make a mistake. These board positions are called \"P-positions\".\n",
    "\n",
    "There are 2 important remarks about this statement:\n",
    "1. The fact that these are the only two options is not automatic. For example in chess, there is also a third option -- the draw. In go draws may or may not be possible depending on exact version of the rules being played (check out the \"superko\" rule and \"komidashi\"). What makes Nim different is that the number of elements on the board is finite to begin with and always decreasing (a pass or adding more elements isn't possible), which guarantees that one of the players will eventually remove the last element and win.\n",
    "2. The fact that one of the players has a winning strategy doesn't necessarily imply that the winning strategy is easy to discover or can be computed efficiently. In fact a stronger statement is true: for some games we know that the **first player** to move *has* a winning strategy, but we still have no idea *what* that strategy is. If you're curious how this can possibly work, check out the strategy-stealing argument due to John Nash. What makes Nim special is that we can quickly decide, given any board, whether it is in a \"N-position\" or in a \"P-position\". The rest is easy: we have to always leave the bord in a \"N-position\" after our move."
   ]
  },
  {
   "cell_type": "markdown",
   "metadata": {},
   "source": [
    "#### Computing the N-position"
   ]
  },
  {
   "cell_type": "markdown",
   "metadata": {},
   "source": [
    "How can you tell if the board is currently in a N-position?\n",
    "\n",
    "It turns out that all you have to do is to compute bitwise exclusive-or cumulatively over all row lengths. If the result is 0, then the board is in a N-position. If the result is non-zero, then the board is in a P-position.\n",
    "\n",
    "For example, the board [5, 4, 3, 2] is in a N-position, because `((5 ^ 4) ^ 3) ^ 2 == 0`. Since bitwise exclusive-or is associative, `5 ^ (4 ^ (3 ^ 2)) == 0` also works.\n",
    "\n",
    "The value of the cumulative exclusive-or is called the Nim sum. The Nim sum of the board position [5, 4, 3, 2] is 0."
   ]
  },
  {
   "cell_type": "code",
   "execution_count": null,
   "metadata": {},
   "outputs": [],
   "source": [
    "((5 ^ 4) ^ 3) ^ 2"
   ]
  },
  {
   "cell_type": "code",
   "execution_count": null,
   "metadata": {},
   "outputs": [],
   "source": [
    "5 ^ (4 ^ (3 ^ 2))"
   ]
  },
  {
   "cell_type": "markdown",
   "metadata": {},
   "source": [
    "Please implement `nim_sum(board)` to compute the nim sum of a given board position.\n",
    "\n",
    "Please implement `is_n_position(board)` to determine whether the given board is in N-position.\n",
    "\n",
    "Please implement `is_p_position(board)` to determine whether the given board is in P-position."
   ]
  },
  {
   "cell_type": "code",
   "execution_count": null,
   "metadata": {
    "collapsed": true
   },
   "outputs": [],
   "source": [
    "def nim_sum(board):\n",
    "    if board:\n",
    "        i = board[0]\n",
    "        for j in board[1:]:\n",
    "            i ^= j\n",
    "        return i\n",
    "    else:\n",
    "        return 0"
   ]
  },
  {
   "cell_type": "code",
   "execution_count": null,
   "metadata": {
    "collapsed": true
   },
   "outputs": [],
   "source": [
    "def is_n_position(board):\n",
    "    return nim_sum(board) == 0\n",
    "\n",
    "def is_p_position(board):\n",
    "    return nim_sum(board) != 0"
   ]
  },
  {
   "cell_type": "code",
   "execution_count": null,
   "metadata": {
    "collapsed": true
   },
   "outputs": [],
   "source": [
    "assert nim_sum([5, 4, 3, 2]) == 0\n",
    "assert nim_sum([]) == 0\n",
    "assert nim_sum([1, 1, 1, 1, 1, 1, 1]) == 1\n",
    "assert nim_sum([4, 4, 4, 4, 2, 2, 1, 1, 7]) == 7\n",
    "assert nim_sum([1, 2, 5, 8, 11, 3, 2, 1, 4, 32, 7, 9]) == 1 ^ 2 ^ 5 ^ 8 ^ 11 ^ 3 ^ 2 ^ 1 ^ 4 ^ 32 ^ 7 ^ 9\n",
    "assert is_n_position([5, 4, 3, 2])\n",
    "assert not is_n_position([1, 2, 5, 8, 11, 3, 2, 1, 4, 32, 7, 9])\n",
    "assert is_p_position([5, 4, 3, 1])\n",
    "assert not is_p_position([5, 5])"
   ]
  },
  {
   "cell_type": "code",
   "execution_count": null,
   "metadata": {},
   "outputs": [],
   "source": [
    "nim_sum([5, 4, 3, 2, 1])"
   ]
  },
  {
   "cell_type": "markdown",
   "metadata": {},
   "source": [
    "#### Given a P-position how to reduce it to a N-position?"
   ]
  },
  {
   "cell_type": "markdown",
   "metadata": {},
   "source": [
    "We know already how to tell a P-position from an N-position.\n",
    "\n",
    "Also, we know that if we are facing a N-position and it's our move, the best we can do is make a random move and hope that our opponent makes a mistake further in the game. The reason we know this is that every move from a N-position is guaranteed to result in a P-position.\n",
    "\n",
    "It turns out that if we are facing a P-position, we can efficiently compute a move, which will leave our opponent facing a N-position. If we manage to do it once, we can keep doing this until we win the game.\n",
    "\n",
    "But how?\n",
    "\n",
    "The trick is to compute the nim-sum of the current board, say `X`, and the bitwise exclusive-or of each row size and `X`. If the result is less than the row length, we record the index of that row as a \"good index\". It can be shown that our list of good indices will always be non-empty.\n",
    "\n",
    "We can then pick any good row, say with `r` elements and reduce its size to `X ^ r`. This guarantees an N-position.\n",
    "\n",
    "There's only one minor caveat: we prefer to operate with moves of the form `(row, elements)`, which can be passed to the function `make_move` rather than directly manipulating the rows. Instead of reducing the row length to X, we can just return the difference of X and the row size as the number of elements to remove from the row.\n",
    "\n",
    "For example, if our board is `[5, 4, 3, 2, 1]`, the nim-sum of the board is `1` and the coressponding bitwise XOR of `1` and each element of the board is `[4, 5, 2, 3, 0]`. Doing an element-wise comparison we get $4 < 5$, $5 >= 4$, $2 < 3$, $3 >= 2,$ $0 < 1$. This means that only rows 1, 3 and 5 (with indices 0, 2, and 4) are \"good\", since $4 < 5$, $2 < 3$ and $0 < 1$ and any of the moves: `(1, 5 - 4) == (1, 1)`, `(3, 3 - 2) == (3, 1)` and `(5, 1 - 0) == (5, 1)` would be optimal, where `(1, 1)` for example means \"remove one element from first row\".\n",
    "\n",
    "Please implement the function `optimal_move(board)`.\n",
    "\n",
    "If the board is in N-position `optimal_move(board)` should return a random valid move.\n",
    "\n",
    "If the board is in P-position `optimal_move(board)` should return a random optimal move, as discussed above.\n",
    "\n",
    "You need not to worry about the special case of the empty board. We will make sure that the empty board never enters the `optimal_move` function.\n",
    "\n",
    "Pro tip: you can use `random.randint` to draw random numbers."
   ]
  },
  {
   "cell_type": "code",
   "execution_count": null,
   "metadata": {},
   "outputs": [],
   "source": [
    "# here's the user manual on the `random.randint` function\n",
    "import random\n",
    "help(random.randint)"
   ]
  },
  {
   "cell_type": "code",
   "execution_count": null,
   "metadata": {
    "collapsed": true
   },
   "outputs": [],
   "source": [
    "def optimal_move(board):\n",
    "    X = nim_sum(board)\n",
    "    if X == 0:\n",
    "        non_empty_rows = [i for i,r in enumerate(board) if r != 0]\n",
    "        random.shuffle(non_empty_rows)\n",
    "        row_index = non_empty_rows[0]\n",
    "        return row_index + 1, random.randint(1, board[row_index])\n",
    "    else:\n",
    "        lengths = [X ^ i for i in board]\n",
    "        computed = [(i, (a, n)) for i, (a, n) in enumerate(zip(lengths, board)) if a < n]\n",
    "        random.shuffle(computed)\n",
    "        to_return = computed[0]\n",
    "        return to_return[0] + 1, to_return[1][1] - to_return[1][0]"
   ]
  },
  {
   "cell_type": "code",
   "execution_count": null,
   "metadata": {},
   "outputs": [],
   "source": [
    "# TODO write test cases\n",
    "optimal_move([5, 4, 3, 2, 1])"
   ]
  },
  {
   "cell_type": "markdown",
   "metadata": {},
   "source": [
    "### Coding the user interface"
   ]
  },
  {
   "cell_type": "markdown",
   "metadata": {},
   "source": [
    "In our implementation of the game of Nim we would like to support 3 scenarios:\n",
    "\n",
    "1. Human vs Human\n",
    "2. Human vs Computer\n",
    "3. Computer vs Computer\n",
    "\n",
    "We are going to decide which scenario to invoke based on case-insenstive inspection of player's names. If player's name contains the string \"computer\" in it, as for example in \"Computer 1\", we will treat them as a computer player and make optimal moves based on the optimal strategy. Otherwise, we will treat them as human players.\n",
    "\n",
    "Please implement this logic in `is_human(player_string)`\n",
    "\n",
    "Pro tip: use `.lower()` for case-insensitive comparisons. For example `\"apple\" in \"bAnANA ApPLe RaspbERRY\".lower()`"
   ]
  },
  {
   "cell_type": "code",
   "execution_count": null,
   "metadata": {
    "collapsed": true
   },
   "outputs": [],
   "source": [
    "def is_human(player_string):\n",
    "    return \"computer\" not in player_string.lower()"
   ]
  },
  {
   "cell_type": "code",
   "execution_count": null,
   "metadata": {
    "collapsed": true
   },
   "outputs": [],
   "source": [
    "assert not is_human(\"Computer 1\")\n",
    "assert not is_human(\"Human is not a ComPuTer\")\n",
    "assert is_human(\"I think therefore I am\")"
   ]
  },
  {
   "cell_type": "markdown",
   "metadata": {},
   "source": [
    "We have to be able to correctly recognise the terminal position. In Nim the only possible terminal position is the empty board, for example `[0, 0, 0]`. Please implement `is_board_empty(board)`, which recognises the empty board."
   ]
  },
  {
   "cell_type": "code",
   "execution_count": null,
   "metadata": {
    "collapsed": true
   },
   "outputs": [],
   "source": [
    "def is_board_empty(board):\n",
    "    return not any(board)"
   ]
  },
  {
   "cell_type": "code",
   "execution_count": null,
   "metadata": {},
   "outputs": [],
   "source": [
    "assert not is_board_empty([3, 0, 0])\n",
    "assert is_board_empty([0, 0, 0])\n",
    "assert is_board_empty([0, 0, 0, 0])\n",
    "assert is_board_empty([])\n",
    "assert not is_board_empty([3, 3, 1])"
   ]
  },
  {
   "cell_type": "markdown",
   "metadata": {},
   "source": [
    "#### Fully working game\n",
    "\n",
    "Please implement a fully working game of Nim in the function `play_nim(player1, player2, board)`\n",
    "\n",
    "You can re-use any function defined so far.\n",
    "\n",
    "Your program should:\n",
    "\n",
    "1. Recognise which of the 3 scenarios (Human vs Human, Human vs Computer, Computer vs Computer) you're dealing with.\n",
    "2. Allow human players to enter user input (row & move).\n",
    "3. Make computer players execute optimal strategy.\n",
    "4. Change turns, but ONLY if the player made a legal move (retry input otherwise).\n",
    "5. Announce the winner when the board is empty.\n",
    "\n",
    "When you're finished please export all of your code into a python file and submit it for automatic testing:\n",
    "1. In the top-left corner of your Jupyter notebook choose File → Download as → Python (.py)\n",
    "2. TODO explain how to submit the file into CMS\n",
    "\n",
    "\n",
    "Note to self: there's no automatic testing for the final game, it's hard to enforce consistent input handling.\n",
    "\n",
    "TODO, remove the note to self"
   ]
  },
  {
   "cell_type": "code",
   "execution_count": null,
   "metadata": {
    "collapsed": true
   },
   "outputs": [],
   "source": [
    "def play_nim(player1, player2, board):\n",
    "    while True:\n",
    "        if is_board_empty(board):\n",
    "            print(player2, \"wins\")\n",
    "            break\n",
    "        print(present_board(board))\n",
    "        if is_human(player1):            \n",
    "            row, elements = input(\"make a move {} (row, elements)\".format(player1)).split(\",\")\n",
    "            row = int(row)\n",
    "            elements = int(elements)\n",
    "            board, success = make_move(board, row, elements)\n",
    "            if success:\n",
    "                player1, player2 = player2, player1\n",
    "        else:\n",
    "            row, elements = optimal_move(board)\n",
    "            print(player1, \"makes a move\", row, elements)\n",
    "            board, _ = make_move(board, row, elements)\n",
    "            player1, player2 = player2, player1"
   ]
  },
  {
   "cell_type": "markdown",
   "metadata": {},
   "source": [
    "#### Can you beat the Clever Computer?"
   ]
  },
  {
   "cell_type": "code",
   "execution_count": null,
   "metadata": {},
   "outputs": [],
   "source": [
    "you = \"\\\"Put your name here\\\"\"\n",
    "computer = \"Clever Computer\"\n",
    "print(\"I challenge you mighty\", you, \"for a duel of Nim!\")\n",
    "play_nim(you, computer, [5, 4, 3, 2, 1])"
   ]
  },
  {
   "cell_type": "markdown",
   "metadata": {},
   "source": [
    "## Part C – do it if you want"
   ]
  },
  {
   "cell_type": "markdown",
   "metadata": {},
   "source": [
    "## TODO\n",
    "\n",
    "Explain the maths with all the proofs. Link to the document from MIT: http://web.mit.edu/sp.268/www/nim.pdf"
   ]
  },
  {
   "cell_type": "markdown",
   "metadata": {},
   "source": [
    "Made with 💙 by Adam Kurkiewicz"
   ]
  }
 ],
 "metadata": {
  "kernelspec": {
   "display_name": "Python 3",
   "language": "python",
   "name": "python3"
  },
  "language_info": {
   "codemirror_mode": {
    "name": "ipython",
    "version": 3
   },
   "file_extension": ".py",
   "mimetype": "text/x-python",
   "name": "python",
   "nbconvert_exporter": "python",
   "pygments_lexer": "ipython3",
   "version": "3.6.2"
  }
 },
 "nbformat": 4,
 "nbformat_minor": 2
}
