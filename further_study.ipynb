{
 "cells": [
  {
   "cell_type": "markdown",
   "metadata": {},
   "source": [
    "# Fully understanding Game of Nim\n",
    "\n",
    "We need to prove two things to achieve complete understanding of the game of Nim:\n",
    "\n",
    "1. Each move from a N-position results in a P-position.\n",
    "2. The algorithm we've given always reduces any given P-position into a N-position.\n",
    "\n",
    "We're actually going to prove two equivalent statements, from which the previous two easily follow:\n",
    "\n",
    "\n",
    "- **Theorem 1** Each move from a board with nim-sum zero results in a board with nim-sum non-zero\n",
    "- **Theorem 2** The algorithm we've given always reduces any given board with non-zero nim-sum into a board with a nim-sum zero.\n",
    "\n",
    "We can break down each of these proofs into small steps, and do one step at a time. Please accomplish the following exercises (they should take about ~5-10 minutes each).\n",
    "\n",
    "1. Let $a$ be any integer. Let $\\wedge$ denote bitwise exclusive or. Show that $a \\wedge a = 0$. This is called \"nilpotence\".\n",
    "\n",
    "2. Let $a$, $b$ be any integers. Show that if $a \\neq b$, then $(a \\wedge b) \\neq 0$\n",
    "\n",
    "3. Let $a$, $b$, $c$ be any integers. Show that $(a \\wedge b) \\wedge c = a \\wedge (b \\wedge c)$. This is called \"associativity\".\n",
    "\n",
    "4. Let $a$, $b$ be any integers. Show that $(a \\wedge b) = (b \\wedge a)$. This is called \"reflexivity\".\n",
    "\n",
    "5. Let $a$ be any integer. Show that $a \\wedge 0 = a$. 0 will be called \"the identity\" of $\\wedge$."
   ]
  },
  {
   "cell_type": "markdown",
   "metadata": {},
   "source": [
    "## Exercise Remarks\n",
    "\n",
    "The purpose of exercises 3 and 4 is to show you that bitwise exclusive or, although very different from addition or multiplication behaves like them. This means that, if you take extra care, you can use your usual intuition about addition and multiplication to quickly \"reshuffle\" statements about bitwise exclusive or in your head. For example, $(a \\wedge b) \\wedge (c \\wedge d)$ is equal to $(a \\wedge c) \\wedge (b \\wedge d)$. You could laboriously prove this by repetitevely applying exercises 3 and 4, but you don't have to. Just knowing that 3 and 4 are true should be enough to guide your intuition, and think of these equations as if $\\wedge$ was replaced with $+$ or $*$.\n",
    "\n",
    "The purpose of exercises 1 and 2 is to show you that $\\wedge$ enjoys some special properties, which we'll exploit in our proofs.\n"
   ]
  },
  {
   "cell_type": "markdown",
   "metadata": {},
   "source": [
    "## Proof of Theorem 1\n",
    "\n",
    "We're now ready to show **Theorem 1**.\n",
    "\n",
    "Let $board\\_before = [x_1, x_2, \\ldots, x_n]$ be a board of size $n$. Let us assume this board has a nim-sum of 0. Let either player make any legal move, and, without loss of generality, let's assume it decreases the row $x_n$ by some elements into $y_n$, $y_n < x_n$. If it decreases a different row, we can just reshuffle row labels to make it $x_n$.\n",
    "\n",
    "After the move, we have $board\\_after = [x_1, x_2, \\ldots, x_{n-1}, y_n]$. Let $s$ be the nim sum of $board\\_before$ and let $t$ be the nim sum of $board\\_after$. Applying exercises 1, 2, 3, 4, 5 and the fact that $s$ = 0 we have:\n",
    "$$t = 0 \\wedge t$$\n",
    "$$t = s \\wedge t$$\n",
    "$$t = (x_1 \\wedge \\ldots \\wedge x_{n-1} \\wedge x_n) \\wedge (x_1 \\ldots \\wedge x_{n-1} \\wedge y_n)$$\n",
    "$$t = (x_1 \\wedge x_1) \\wedge \\ldots \\wedge (x_{n-1} \\wedge x_{n-1}) \\wedge (x_{n} \\wedge y_{n})$$\n",
    "$$t = 0 \\wedge \\ldots \\wedge 0 \\wedge (x_{n} \\wedge y_{n})$$\n",
    "Since $y_{n} < x_{n}$ and by exercises 5 and 1, we have that $t \\neq 0$, which finishes the proof."
   ]
  },
  {
   "cell_type": "markdown",
   "metadata": {},
   "source": [
    "## Proof of Theorem 2\n",
    "\n",
    "The proof of **Theorem 2** is only a little bit more difficult than the proof of Theorem 1. Again, let $board\\_before$ be $[x_1, x_2, \\ldots, x_n]$. Let $s$ be the nim-sum of $board\\_before$, but unlike in **Theorem 1**, let it be non-zero. Likewise, let $t$ be defined like in theorem 1.\n",
    "\n",
    "Again, let us define the row modified by the move $x_n$, and let's reduce it to $y_n$.\n",
    "\n",
    "Unlike in **Theorem 1**, we're now trying to show that something is possible, as opposed to that something is never possible. We can do that by exhibiting an example.\n",
    "\n",
    "Our example will be a specially chosen row that we will label $x_n$ and we will carefully craft the exact number of elements we want to remove from $x_n$ to reduce its size to a special value of $y_n$, which will result in $t = 0$.\n",
    "\n",
    "Which row to pick? The trick is to again applying Exercises 1, 2, 3, 4, 5 to obtain the following equality:\n",
    "\n",
    "$$t = 0 \\wedge t$$\n",
    "$$t = s \\wedge s \\wedge t$$\n",
    "$$t = s \\wedge (x_1 \\wedge x_2 \\wedge \\ldots \\wedge x_n) \\wedge (x_1 \\wedge x_2 \\wedge \\ldots \\wedge y_n)$$\n",
    "\n",
    "$$t = s \\wedge (x_1 \\wedge y_1) \\wedge (x_2 \\wedge y_2) \\wedge \\ldots \\wedge (x_n \\wedge y_n)$$\n",
    "$$t = s \\wedge x_n \\wedge y_n$$\n",
    "\n",
    "As we can see if we can set $y_n$ to be $s \\wedge x_n$, our move will have set $t = 0$, which is exactly what we're trying to achieve. But is it possible? A constraint is that $y_n < x_n$ (passing is not allowed). If $s = 0$ we can't hope to satisfy this constraint. But if $s$ is non-zero we simply have to choose a heap, which features the most-significant bit in the binary expansion of the heap size equal to the most-significant bit in the binary expansion of $s$. Then we can label that heap $x_n$, and we can set it to $s \\wedge x_n$, which is guaranteed to be a legal move. This move guarantees $t = 0$ and finishes the proof."
   ]
  },
  {
   "cell_type": "markdown",
   "metadata": {},
   "source": [
    "## This is great I want to know more!\n",
    "\n",
    "The game of nim is a special case of an \"impartial game\" with \"perfect information\". The theory of impartial games is interesting and still an active area of research. There are difficult open problems, which are still waiting for someone (maybe you!) to solve them.\n",
    "\n",
    "One such problem relates to so-called Grundy sequence. Grundy sequence is best defined programmatically, and you can find C++ source code [here](https://oeis.org/A002188).\n",
    "\n",
    "It is still not known whether Grundy sequence is eventually periodic, although it's widely conjectured that it is.\n",
    "\n",
    "If you'd like to learn more about impartial games, the recommended resource is the following lecture notes from MIT:\n",
    "\n",
    "http://web.mit.edu/sp.268/www/nim.pdf"
   ]
  },
  {
   "cell_type": "markdown",
   "metadata": {},
   "source": [
    "Made with 💙 by Adam Kurkiewicz"
   ]
  }
 ],
 "metadata": {
  "kernelspec": {
   "display_name": "Python 3",
   "language": "python",
   "name": "python3"
  },
  "language_info": {
   "codemirror_mode": {
    "name": "ipython",
    "version": 3
   },
   "file_extension": ".py",
   "mimetype": "text/x-python",
   "name": "python",
   "nbconvert_exporter": "python",
   "pygments_lexer": "ipython3",
   "version": "3.6.2"
  }
 },
 "nbformat": 4,
 "nbformat_minor": 2
}
