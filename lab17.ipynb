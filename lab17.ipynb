{
 "cells": [
  {
   "cell_type": "markdown",
   "metadata": {},
   "source": [
    "# Lab 17 – The game of Nim"
   ]
  },
  {
   "cell_type": "markdown",
   "metadata": {},
   "source": [
    "The purpose of this lab is to implement an optimal algorithm & a user-friendly interface to play the game of Nim. This is an interesting challenge for 3 reasons:\n",
    "\n",
    "1. The game of Nim is a rare case of a strategy game, which is \"solved\" in the sense that if an optimal move exists, it can be always quickly computed, and if no optimal move exists, it can be quickly proven to be the case. This is unlike the games of Chess or Go, for which new algorithms constantly appear, all take a long time to compute, and none deliver provably optimal results.\n",
    "\n",
    "2. The optimal algorithm to play the game of Nim uses bitwise exclusive or, which is otherwise important in Software Engineering & Computer Science, and you'll have to know it in your further studies & in your future job.\n",
    "\n",
    "3. User interface needs to support several modes: player vs player, player vs computer, computer vs computer. There are interesting usability & user experience choices to be made in the final user-facing implementation of the game."
   ]
  },
  {
   "cell_type": "markdown",
   "metadata": {},
   "source": [
    "## Lab structure & automated feedback."
   ]
  },
  {
   "cell_type": "markdown",
   "metadata": {},
   "source": [
    "This lab **is not** assessed. However, we're trialling a new way of giving students immediate feedback on their programming exercises. As a result this lab has different structure than other labs.\n",
    "\n",
    "- This document gives a high-level overview and explains the necessary concepts underlying the lab.\n",
    "- Exercises are split off into separate files. Each file includes the exercise boilerplate and exercise-specific description. You will have to work with them using a text editor, like idle or vscode or an IDE like pycharm. If you want to use jupyter, please copy and paste your jupyter solution back into the file when you're finished. Work through the files in the following order:\n",
    "    1. present_board.py\n",
    "    2. make_move.py\n",
    "    3. exclusive_or.py\n",
    "    4. bin_num.py\n",
    "    5. bitwise_xor.py\n",
    "    6. nim_sum.py\n",
    "    7. optimal_move.py\n",
    "    8. ui.py\n",
    "    9. working_game.py\n",
    "- (optional) When you're finished with a file, you can submit it for automated testing at [http://grader.givegrade.me.uk](http://grader.givegrade.me.uk). Your username is your GUID + first letter of your surname (small case), for example, the username of Adam Kurkiewicz is 1102499k. Your password is the last 8 digits of your barcode, for example 12345678. This step is optional -- you don't have to use automated marking.\n",
    "- **Automated Feedback Warning:** the software used for automated feedback was originally developed for programming contests, and terminology might be somewhat confusing. When you log in to the website, find the name of the exercise you've done on the left pane, and press *Submission*. You can then choose a file from your filesystem (e.g. present_board.py) and press *Submit*. Your code will be automatically tested for correctness.\n",
    "- **Automated Feedback Warning:** make sure you remove all dangling `print`s you've used for debugging, etc. Automatic tester doesn't like them!\n",
    "- **Automated Feedback Warning:** make sure your solution works in Python 2 (for the automated grader) as well as Python 3 (official course requirement). Stubs of exercises already import `print_function` and `division`, which should make this requirement very easy to satisfy.\n",
    "- **Automated Feedback Warning:** each exercise file waits for test input on the standard input. It might appear like your program is stuck in an infite loop but it probably isn't! This is to aid automated testing, and you can remove this if you don't want to submit your code to [http://grader.givegrade.me.uk](http://grader.givegrade.me.uk).\n",
    "- **What  **"
   ]
  },
  {
   "cell_type": "markdown",
   "metadata": {},
   "source": [
    "## Part A – do at home before the lab"
   ]
  },
  {
   "cell_type": "markdown",
   "metadata": {},
   "source": [
    "### Part A – description of the game"
   ]
  },
  {
   "cell_type": "markdown",
   "metadata": {},
   "source": [
    "In the game of Nim two players, Alice and Bob, are presented with a finite number of rows containing a variable number of elements. For the sake of presentation, let's say 5 rows:\n",
    "\n",
    "`Nim:\n",
    "1: X X X X X\n",
    "2: X X X X\n",
    "3: X X X X X\n",
    "4: X X\n",
    "5: X X X`\n",
    "\n",
    "In each turn, a player chooses a row and how many items to remove from the row (the number of items has to be greater than zero). It's Alice's turn, and she decides to remove elements from row 3 and she wants to remove 2 elements:\n",
    "\n",
    "`Alice: 3, 2\n",
    "Nim:\n",
    "1: X X X X X\n",
    "2: X X X X\n",
    "3: X X X\n",
    "4: X X\n",
    "5: X X X`\n",
    "\n",
    "Row 3 is reduced by 2 elements from 5 to 3 elements. It's now time for Bob to play. Bob decides to remove items from row 1, and he wants to remove all 5 items:\n",
    "\n",
    "`Bob: 1, 5\n",
    "Nim:\n",
    "1: \n",
    "2: X X X X\n",
    "3: X X X\n",
    "4: X X\n",
    "5: X X X`\n",
    "\n",
    "The game continues with players taking turns, and eventually it's Alice's turn and the board looks like this:\n",
    "\n",
    "`Nim:\n",
    "1: \n",
    "2: \n",
    "3: \n",
    "4: \n",
    "5: X X\n",
    "`\n",
    "\n",
    "Alice can now remove the last two elements from the last row. Because she is the last one to make the move, she wins and this is how the game ends.\n",
    "\n",
    "`Alice: 5, 2\n",
    "Nim:\n",
    "1: \n",
    "2: \n",
    "3: \n",
    "4: \n",
    "5: \n",
    "Alice wins\n",
    "`\n",
    "\n",
    "**Note:** game of Nim is relatively well-known, and there are online implementations of the game, which may aid your understanding. A good example is [here](http://www.goobix.com/games/nim/)."
   ]
  },
  {
   "cell_type": "markdown",
   "metadata": {},
   "source": [
    "### Part A – programming tasks"
   ]
  },
  {
   "cell_type": "markdown",
   "metadata": {},
   "source": [
    "Please accomplish the following programming task before your scheduled lab"
   ]
  },
  {
   "cell_type": "markdown",
   "metadata": {},
   "source": [
    "#### Present Board (present_board.py)"
   ]
  },
  {
   "cell_type": "markdown",
   "metadata": {},
   "source": [
    "Task description in `present_board.py`"
   ]
  },
  {
   "cell_type": "markdown",
   "metadata": {},
   "source": [
    "#### Making a move (make_move.py)"
   ]
  },
  {
   "cell_type": "markdown",
   "metadata": {},
   "source": [
    "Task description in `make_move.py`"
   ]
  },
  {
   "cell_type": "markdown",
   "metadata": {},
   "source": [
    "#### Exclusive or logic gate (exclusive_or.py)"
   ]
  },
  {
   "cell_type": "markdown",
   "metadata": {},
   "source": [
    "Task description in `exclusive_or.py`"
   ]
  },
  {
   "cell_type": "markdown",
   "metadata": {},
   "source": [
    "#### Hindu-Arabic numerals ↔ binary conversions (bin_num.py)"
   ]
  },
  {
   "cell_type": "markdown",
   "metadata": {},
   "source": [
    "Task description in `bin_num.py`"
   ]
  },
  {
   "cell_type": "markdown",
   "metadata": {},
   "source": [
    "#### Bitwise exclusive or (bitwise_xor.py)"
   ]
  },
  {
   "cell_type": "markdown",
   "metadata": {},
   "source": [
    "Task description in `bitwise_xor.py`"
   ]
  },
  {
   "cell_type": "markdown",
   "metadata": {},
   "source": [
    "## Part B – do it in the lab or after the lab"
   ]
  },
  {
   "cell_type": "markdown",
   "metadata": {},
   "source": [
    "### Part B – the winning strategy"
   ]
  },
  {
   "cell_type": "markdown",
   "metadata": {},
   "source": [
    "#### Overview"
   ]
  },
  {
   "cell_type": "markdown",
   "metadata": {},
   "source": [
    "Most people when presented with a (very difficult) challenge of designing an algorithm to play Nim optimally follow a similar thought pattern (and quickly get stuck):\n",
    "\n",
    "- There can't be a draw, so one of the players must have a winning strategy!\n",
    "- The player who begins has a winning strategy!\n",
    "- No, the player who goes second has a winning strategy!\n",
    "- Let's try all possible move combinations of some position X\n",
    "- But there is too many...\n",
    "\n",
    "It turns out that for any board position there are only two possibilities:\n",
    "\n",
    "1. No good move exists. If it's our turn to move and our opponent plays perfectly, whatever move we choose, we loose. These board positions are called \"N-positions\".\n",
    "2. There is a winning move, and if it's our turn to move our opponent is guaranteed to loose, unless we make a mistake. These board positions are called \"P-positions\".\n",
    "\n",
    "There are 2 important remarks about this statement:\n",
    "1. The fact that these are the only two options is not automatic. For example in chess, there is also a third option -- the draw. In go draws may or may not be possible depending on exact version of the rules being played (check out the \"superko\" rule and \"komidashi\"). What makes Nim different is that the number of elements on the board is finite to begin with and always decreasing (a pass or adding more elements isn't possible), which guarantees that one of the players will eventually remove the last element and win.\n",
    "2. The fact that one of the players has a winning strategy doesn't necessarily imply that the winning strategy is easy to discover or can be computed efficiently. In fact a stronger statement is true: for some games we know that the **first player** to move *has* a winning strategy, but we still have no idea *what* that strategy is. If you're curious how this can possibly work, check out the strategy-stealing argument due to John Nash. What makes Nim special is that we can quickly decide, given any board, whether it is in a \"N-position\" or in a \"P-position\". The rest is easy: we have to always leave the board in a \"N-position\" after our move."
   ]
  },
  {
   "cell_type": "markdown",
   "metadata": {},
   "source": [
    "#### Computing the N-position"
   ]
  },
  {
   "cell_type": "markdown",
   "metadata": {},
   "source": [
    "How can you tell if the board is currently in a N-position?\n",
    "\n",
    "It turns out that all you have to do is to compute bitwise exclusive-or cumulatively over all row lengths. If the result is 0, then the board is in a N-position. If the result is non-zero, then the board is in a P-position.\n",
    "\n",
    "For example, the board [5, 4, 3, 2] is in a N-position, because `((5 ^ 4) ^ 3) ^ 2 == 0`. Since bitwise exclusive-or is associative, `5 ^ (4 ^ (3 ^ 2)) == 0` also works.\n",
    "\n",
    "The value of the cumulative exclusive-or is called the Nim sum. The Nim sum of the board position `[5, 4, 3, 2]` is `0`."
   ]
  },
  {
   "cell_type": "code",
   "execution_count": 6,
   "metadata": {},
   "outputs": [
    {
     "data": {
      "text/plain": [
       "0"
      ]
     },
     "execution_count": 6,
     "metadata": {},
     "output_type": "execute_result"
    }
   ],
   "source": [
    "((5 ^ 4) ^ 3) ^ 2"
   ]
  },
  {
   "cell_type": "code",
   "execution_count": 7,
   "metadata": {},
   "outputs": [
    {
     "data": {
      "text/plain": [
       "0"
      ]
     },
     "execution_count": 7,
     "metadata": {},
     "output_type": "execute_result"
    }
   ],
   "source": [
    "5 ^ (4 ^ (3 ^ 2))"
   ]
  },
  {
   "cell_type": "markdown",
   "metadata": {},
   "source": [
    "#### Nim  sum (nim_sum.py)"
   ]
  },
  {
   "cell_type": "markdown",
   "metadata": {},
   "source": [
    "Task description in `nim_sum.py`"
   ]
  },
  {
   "cell_type": "markdown",
   "metadata": {},
   "source": [
    "#### Given a P-position how to reduce it to a N-position?"
   ]
  },
  {
   "cell_type": "markdown",
   "metadata": {},
   "source": [
    "We know already how to tell a P-position from an N-position.\n",
    "\n",
    "Also, we know that if we are facing a N-position and it's our move, the best we can do is make a random move and hope that our opponent makes a mistake further in the game. The reason we know this is that every move from a N-position is guaranteed to result in a P-position.\n",
    "\n",
    "It turns out that if we are facing a P-position, we can efficiently compute a move, which will leave our opponent facing a N-position. If we manage to do it once, we can keep doing this until we win the game.\n",
    "\n",
    "But how?\n",
    "\n",
    "The trick is to compute the nim-sum of the current board, say `X`, and the bitwise exclusive-or of each row size and `X`. If the result is less than the row length, we record the index of that row as a \"good index\". It can be shown that our list of good indices will always be non-empty.\n",
    "\n",
    "We can then pick any good row, say with `r` elements and reduce its size to `X ^ r`. This guarantees an N-position.\n",
    "\n",
    "There's only one minor caveat: we prefer to operate with moves of the form `(row, elements)`, which can be passed to the function `make_move` rather than directly manipulating the rows. Instead of reducing the row length to `X ^ r`, we can just return the difference of `X ^ r` and the row size as the number of elements to remove from the row.\n",
    "\n",
    "For example, if our board is `[5, 4, 3, 2, 1]`, the nim-sum of the board is `1` and the coressponding bitwise XOR of `1` and each element of the board is `[4, 5, 2, 3, 0]`. Doing an element-wise comparison we get $4 < 5$, $5 >= 4$, $2 < 3$, $3 >= 2,$ $0 < 1$. This means that only rows 1, 3 and 5 (with indices 0, 2, and 4) are \"good\", since $4 < 5$, $2 < 3$ and $0 < 1$ and any of the moves: `(1, 5 - 4) == (1, 1)`, `(3, 3 - 2) == (3, 1)` and `(5, 1 - 0) == (5, 1)` would be optimal, where `(1, 1)` for example means \"remove one element from first row\"."
   ]
  },
  {
   "cell_type": "code",
   "execution_count": 8,
   "metadata": {},
   "outputs": [
    {
     "name": "stdout",
     "output_type": "stream",
     "text": [
      "Help on method randint in module random:\n",
      "\n",
      "randint(a, b) method of random.Random instance\n",
      "    Return random integer in range [a, b], including both end points.\n",
      "\n"
     ]
    }
   ],
   "source": [
    "# Here's the user manual on the `random.randint` function.\n",
    "# Please note: randint is left- right- inclusive!\n",
    "import random\n",
    "help(random.randint)"
   ]
  },
  {
   "cell_type": "markdown",
   "metadata": {},
   "source": [
    "#### Optimal Move (optimal_move.py)"
   ]
  },
  {
   "cell_type": "markdown",
   "metadata": {},
   "source": [
    "Task description in optimal_move.py"
   ]
  },
  {
   "cell_type": "markdown",
   "metadata": {},
   "source": [
    "### Part B – Coding the user interface"
   ]
  },
  {
   "cell_type": "markdown",
   "metadata": {
    "collapsed": true
   },
   "source": [
    "#### UI (ui.py)"
   ]
  },
  {
   "cell_type": "markdown",
   "metadata": {},
   "source": [
    "Task description in `ui.py`"
   ]
  },
  {
   "cell_type": "markdown",
   "metadata": {
    "collapsed": true
   },
   "source": [
    "#### Working Game (working_game.py)"
   ]
  },
  {
   "cell_type": "markdown",
   "metadata": {},
   "source": [
    "Task description in working_game.py"
   ]
  },
  {
   "cell_type": "markdown",
   "metadata": {},
   "source": [
    "## Part C – do it if you're curious!\n",
    "\n",
    "If you've successfully accomplished parts A and B of the lab, congratulations, you're done!\n",
    "\n",
    "If you'd like to fully understand the game of nim, we've put together a set of exercises & explanations for further self-study in `further_study.html`. Please note that these exercises are no longer part of the lab, are not examinable, and require knowledge and techniques not covered in the course."
   ]
  },
  {
   "cell_type": "markdown",
   "metadata": {},
   "source": [
    "Made with 💙 by Adam Kurkiewicz"
   ]
  }
 ],
 "metadata": {
  "kernelspec": {
   "display_name": "Python 3",
   "language": "python",
   "name": "python3"
  },
  "language_info": {
   "codemirror_mode": {
    "name": "ipython",
    "version": 3
   },
   "file_extension": ".py",
   "mimetype": "text/x-python",
   "name": "python",
   "nbconvert_exporter": "python",
   "pygments_lexer": "ipython3",
   "version": "3.6.2"
  }
 },
 "nbformat": 4,
 "nbformat_minor": 2
}
